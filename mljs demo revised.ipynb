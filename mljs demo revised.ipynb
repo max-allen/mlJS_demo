{
 "cells": [
  {
   "cell_type": "code",
   "execution_count": null,
   "metadata": {
    "collapsed": false
   },
   "outputs": [],
   "source": [
    "const ml = require('ml-regression');\n",
    "const csv = require('csvtojson');\n",
    "const SLR = ml.SLR; // Simple Linear Regression\n",
    "const plotly = require('plotly')('mallen75','2WYRQ3bMlTS9Thb1vaGZ')\n",
    "\n",
    "\n",
    "let csvData = [], // parsed Data\n",
    "    x = [], // independent var, x be average return on equity (net income as % of comm eq) for firm's last 3 years\n",
    "    y = []; // dependent var, ceo annual salary in thousands of dollars\n",
    "\n",
    "let regressionModel, // model\n",
    "\tslope, // model slope\n",
    "\tintercept; // model intercept\n",
    "    \n",
    "\n",
    "function parseData(filePath) {\n",
    "\tconst csvFilePath = filePath; // Data\n",
    "\n",
    "\tcsv()\n",
    "\t    .fromFile(csvFilePath)\n",
    "\t    .on('json', (jsonObj) => {\n",
    "\t        csvData.push(jsonObj);\n",
    "\t    })\n",
    "\t    .on('done', (data) => {\n",
    "\t        append(data); // append new points to arrays\n",
    "\t        csvData = []; // clear parsed container \n",
    "\t    });\n",
    "\t\n",
    "}\n",
    "\n",
    "function performRegression(val) {\n",
    "    regressionModel = new SLR(x, y); // Train our model\n",
    "    slope = regressionModel.slope\n",
    "    intercept = regressionModel.intercept\n",
    "    console.log(regressionModel.toString(3));\n",
    "    predictOutput(val);\n",
    "}\n",
    "\n",
    "function append() {\n",
    "    \n",
    "    csvData.forEach((row) => {\n",
    "        x.push(parseFloat(row.roe));\n",
    "        y.push(parseFloat(row.salary));\n",
    "    });\n",
    "}\n",
    "\n",
    "// function f(s) {\n",
    "//     return parseFloat(s); \n",
    "// }\n",
    "\n",
    "function predictOutput(val) {\n",
    "\tconsole.log(`At x = ${val}, y = ${regressionModel.predict(val)}`)\n",
    "}\n",
    "\n",
    "let lineData = [];\n",
    "let numRange = [];\n",
    "let n = 0;\n",
    "\n",
    "function createData(slope,intercept){\n",
    "\twhile(n < x.length){\n",
    "\t\tnumRange.push(n)\n",
    "\t\tlineData.push(n * slope + intercept)\n",
    "\t\tn += 1\n",
    "\t}\n",
    "}"
   ]
  },
  {
   "cell_type": "code",
   "execution_count": null,
   "metadata": {
    "collapsed": false
   },
   "outputs": [],
   "source": [
    "parseData('ceosal2.csv') //dataset"
   ]
  },
  {
   "cell_type": "code",
   "execution_count": null,
   "metadata": {
    "collapsed": false
   },
   "outputs": [],
   "source": [
    "console.log(x) //check for independent variables"
   ]
  },
  {
   "cell_type": "code",
   "execution_count": null,
   "metadata": {
    "collapsed": false
   },
   "outputs": [],
   "source": [
    "console.log(y) //check for dependent variables"
   ]
  },
  {
   "cell_type": "code",
   "execution_count": null,
   "metadata": {
    "collapsed": false
   },
   "outputs": [],
   "source": [
    "performRegression(23) //train model and perform predication at roe of 23%, average is ~17%"
   ]
  },
  {
   "cell_type": "code",
   "execution_count": null,
   "metadata": {
    "collapsed": false
   },
   "outputs": [],
   "source": [
    "createData(slope,intercept) //prepare data for plotting"
   ]
  },
  {
   "cell_type": "code",
   "execution_count": null,
   "metadata": {
    "collapsed": false
   },
   "outputs": [],
   "source": [
    "let scatterData = {\n",
    "\tx: x,\n",
    "\ty: y,\n",
    "\tmode: 'markers',\n",
    "\tname: 'Wage ($/hr)',\n",
    "\ttype: 'scatter',\n",
    "\tmarker: {\n",
    "\t\tcolor: 'rgb(176,196,222)',\n",
    "\t\tsize: 12,\n",
    "\t\tline: {\n",
    "\t\t\tcolor: 'white',\n",
    "\t\t\twidth: 0.5\n",
    "\t\t}\n",
    "\t}\n",
    "}\n",
    "\n",
    "let origLineData = {\n",
    "\tx: numRange,\n",
    "\ty: lineData,\n",
    "\tmode: 'lines+markers',\n",
    "\tname: `salary = ${intercept} + ${slope} roe`,\n",
    "\ttype: 'scatter',\n",
    "\tline: {\n",
    "\t\tcolor: 'rgb(255,165,0)'\n",
    "\t}\n",
    "};\n",
    "\n",
    "lineData = [];\n",
    "numRange = [];\n",
    "\n",
    "let layout = {\n",
    "  title: \"CEO Salary and Return On Equity\",\n",
    "  xaxis: {\n",
    "    title: \"ROE\",\n",
    "    showgrid: false,\n",
    "    zeroline: false\n",
    "  },\n",
    "  yaxis: {\n",
    "    title: \"Salary\",\n",
    "    showline: false\n",
    "  }\n",
    "};\n",
    "\n",
    "let fullData = [scatterData,origLineData];\n",
    "\n",
    "let graphOptions = {filename: \"basic-line\", fileopt: \"overwrite\", layout: layout}\n",
    "\n",
    "plotly.plot(fullData, graphOptions, function(err,msg) {\n",
    "\tconsole.log(msg);\n",
    "});"
   ]
  },
  {
   "cell_type": "code",
   "execution_count": null,
   "metadata": {
    "collapsed": false
   },
   "outputs": [],
   "source": [
    "parseData('ceosal3.csv') //addtional data to retrain on"
   ]
  },
  {
   "cell_type": "code",
   "execution_count": null,
   "metadata": {
    "collapsed": false
   },
   "outputs": [],
   "source": [
    "console.log(x.length) //check new number of observations"
   ]
  },
  {
   "cell_type": "code",
   "execution_count": null,
   "metadata": {
    "collapsed": false
   },
   "outputs": [],
   "source": [
    "performRegression(23) //regress and perform prediction again at 23%"
   ]
  },
  {
   "cell_type": "code",
   "execution_count": null,
   "metadata": {
    "collapsed": true
   },
   "outputs": [],
   "source": [
    "createData(slope,intercept)"
   ]
  },
  {
   "cell_type": "code",
   "execution_count": null,
   "metadata": {
    "collapsed": false
   },
   "outputs": [],
   "source": [
    "scatterData = {\n",
    "\tx: x,\n",
    "\ty: y,\n",
    "\tmode: 'markers',\n",
    "\tname: 'Wage ($/hr)',\n",
    "\ttype: 'scatter',\n",
    "\tmarker: {\n",
    "\t\tcolor: 'rgb(176,196,222)',\n",
    "\t\tsize: 12,\n",
    "\t\tline: {\n",
    "\t\t\tcolor: 'white',\n",
    "\t\t\twidth: 0.5\n",
    "\t\t}\n",
    "\t}\n",
    "}\n",
    "\n",
    "let linePlotData = {\n",
    "\tx: numRange,\n",
    "\ty: lineData,\n",
    "\tmode: 'lines+markers',\n",
    "\tname: `salary = ${intercept} + ${slope} roe`,\n",
    "\ttype: 'scatter',\n",
    "\tline: {\n",
    "\t\tcolor: 'rgb(30,144,255)'\n",
    "\t}\n",
    "};\n",
    "\n",
    "let layout = {\n",
    "  title: \"CEO Salary and Return On Equity\",\n",
    "  xaxis: {\n",
    "    title: \"ROE\",\n",
    "    showgrid: false,\n",
    "    zeroline: false\n",
    "  },\n",
    "  yaxis: {\n",
    "    title: \"Salary\",\n",
    "    showline: false\n",
    "  }\n",
    "};\n",
    "\n",
    "let fullData = [scatterData,linePlotData];\n",
    "\n",
    "let graphOptions = {filename: \"basic-line\", fileopt: \"overwrite\", layout: layout}\n",
    "\n",
    "plotly.plot(fullData, graphOptions, function(err,msg) {\n",
    "\tconsole.log(msg);\n",
    "});"
   ]
  },
  {
   "cell_type": "code",
   "execution_count": null,
   "metadata": {
    "collapsed": true
   },
   "outputs": [],
   "source": []
  }
 ],
 "metadata": {
  "anaconda-cloud": {},
  "kernelspec": {
   "display_name": "NodeJS",
   "language": "javascript",
   "name": "nodejs"
  },
  "language_info": {
   "codemirror_mode": "javascript",
   "file_extension": ".js",
   "mimetype": "text/javascript",
   "name": "nodejs",
   "pygments_lexer": "javascript",
   "version": "0.10"
  }
 },
 "nbformat": 4,
 "nbformat_minor": 0
}
