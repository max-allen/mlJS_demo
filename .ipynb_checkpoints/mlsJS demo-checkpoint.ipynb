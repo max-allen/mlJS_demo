{
 "cells": [
  {
   "cell_type": "code",
   "execution_count": 1,
   "metadata": {
    "collapsed": false
   },
   "outputs": [
    {
     "data": {
      "text/plain": [
       "[Converter] {\"_readableState\":{\"objectMode\":false,\"highWaterMark\":16384,\"buffer\":{\"head\":null,\"tail\":null,\"length\":0},\"length\":0,\"pipes\":null,\"pipesCount\":0,\"flowing\":null,\"ended\":false,\"endEmitted\":false,\"reading\":false,\"sync\":false,\"needReadable\":true,\"emittedReadable\":false,\"readableListening\":false,\"resumeScheduled\":false,\"destroyed\":false,\"defaultEncoding\":\"utf8\",\"awaitDrain\":0,\"readingMore\":false,\"decoder\":null,\"encoding\":null},\"readable\":true,\"domain\":{\"domain\":null,\"_events\":{},\"_eventsCount\":1,\"members\":[]},\"_events\":{\"end\":[null,null],\"error\":[null,null]},\"_eventsCount\":5,\"_writableState\":{\"objectMode\":false,\"highWaterMark\":16384,\"finalCalled\":false,\"needDrain\":false,\"ending\":false,\"ended\":false,\"finished\":false,\"destroyed\":false,\"decodeStrings\":true,\"defaultEncoding\":\"utf8\",\"length\":0,\"writing\":false,\"corked\":0,\"sync\":true,\"bufferProcessing\":false,\"writecb\":null,\"writelen\":0,\"bufferedRequest\":null,\"lastBufferedRequest\":null,\"pendingcb\":0,\"prefinished\":false,\"errorEmitted\":false,\"bufferedRequestCount\":0,\"corkedRequestsFree\":{\"next\":null,\"entry\":null}},\"writable\":true,\"allowHalfOpen\":true,\"_transformState\":{\"needTransform\":false,\"transforming\":false,\"writecb\":null,\"writechunk\":null,\"writeencoding\":null},\"_options\":{},\"param\":{\"constructResult\":true,\"delimiter\":\",\",\"ignoreColumns\":[],\"includeColumns\":[],\"quote\":\"\\\"\",\"trim\":true,\"checkType\":false,\"toArrayString\":false,\"ignoreEmpty\":false,\"workerNum\":1,\"fork\":false,\"noheader\":false,\"headers\":null,\"flatKeys\":false,\"maxRowLength\":0,\"checkColumn\":false,\"escape\":\"\\\"\",\"colParser\":{},\"_columnConv\":[],\"_headerType\":[],\"_headerTitle\":[],\"_headerFlag\":[],\"_headers\":null,\"_needFilterRow\":false,\"_options\":{}},\"started\":false,\"recordNum\":0,\"lineNumber\":0,\"_csvLineBuffer\":\"\",\"lastIndex\":0,\"flushCb\":null,\"processEnd\":false,\"sequenceBuffer\":[],\"_needJson\":null,\"_needEmitResult\":null,\"_needEmitFinalResult\":null,\"_needEmitJson\":null,\"_needPush\":null,\"_needEmitCsv\":null,\"_csvTransf\":null,\"finalResult\":[]}"
      ]
     },
     "execution_count": 1,
     "metadata": {},
     "output_type": "execute_result"
    }
   ],
   "source": [
    "const ml = require('ml-regression');\n",
    "const csv = require('csvtojson');\n",
    "const SLR = ml.SLR; // Simple Linear Regression\n",
    "const plotly = require('plotly')('mallen75','2WYRQ3bMlTS9Thb1vaGZ')\n",
    "\n",
    "const csvFilePath = 'ceosal1.csv'; // Data\n",
    "let csvData = [], // parsed Data\n",
    "    x = [], // Input\n",
    "    y = []; // Output\n",
    "\n",
    "let regressionModel,\n",
    "\tslope,\n",
    "\tintercept;\n",
    "\n",
    "csv()\n",
    "    .fromFile(csvFilePath)\n",
    "    .on('json', (jsonObj) => {\n",
    "        csvData.push(jsonObj);\n",
    "    })\n",
    "    .on('done', (s) => {\n",
    "        dressData(s); // To get data points from JSON Objects\n",
    "    });\n",
    "\n",
    "function performRegression(val) {\n",
    "    regressionModel = new SLR(x, y); // Train the model on training data\n",
    "    slope = regressionModel.slope\n",
    "    intercept = regressionModel.intercept\n",
    "    console.log(regressionModel.toString(3));\n",
    "    predictOutput(val);\n",
    "}\n",
    "\n",
    "function dressData() {\n",
    "    \n",
    "    csvData.forEach((row) => {\n",
    "        x.push(f(row.roe));\n",
    "        y.push(f(row.salary));\n",
    "    });\n",
    "}\n",
    "\n",
    "function f(s) {\n",
    "    return parseFloat(s);\n",
    "}\n",
    "\n",
    "function predictOutput(val) {\n",
    "\tconsole.log(`At x = ${val}, y = ${regressionModel.predict(val)}`)\n",
    "}\n",
    "\n",
    "let lineData = [];\n",
    "let numRange = [];\n",
    "\n",
    "function createData(slope,intercept){\n",
    "\ti = 0;\n",
    "\twhile(i < 209){\n",
    "\t\tnumRange.push(i)\n",
    "\t\tlineData.push(i * slope + intercept)\n",
    "\t\ti += 1\n",
    "\t}\n",
    "}"
   ]
  },
  {
   "cell_type": "code",
   "execution_count": 2,
   "metadata": {
    "collapsed": false
   },
   "outputs": [
    {
     "name": "stdout",
     "output_type": "stream",
     "text": [
      "f(x) = 18.5 * x + 963\n",
      "At x = 151.1, y = 3758.72065993261\n"
     ]
    }
   ],
   "source": [
    "performRegression(151.1)"
   ]
  },
  {
   "cell_type": "code",
   "execution_count": 3,
   "metadata": {
    "collapsed": false
   },
   "outputs": [],
   "source": [
    "createData(slope,intercept)"
   ]
  },
  {
   "cell_type": "code",
   "execution_count": 4,
   "metadata": {
    "collapsed": false
   },
   "outputs": [
    {
     "name": "stdout",
     "output_type": "stream",
     "text": [
      "[Array] [0,1,2,3,4,5,6,7,8,9,10,11,12,13,14,15,16,17,18,19,20,21,22,23,24,25,26,27,28,29,30,31,32,33,34,35,36,37,38,39,40,41,42,43,44,45,46,47,48,49,50,51,52,53,54,55,56,57,58,59,60,61,62,63,64,65,66,67,68,69,70,71,72,73,74,75,76,77,78,79,80,81,82,83,84,85,86,87,88,89,90,91,92,93,94,95,96,97,98,99,100,101,102,103,104,105,106,107,108,109,110,111,112,113,114,115,116,117,118,119,120,121,122,123,124,125,126,127,128,129,130,131,132,133,134,135,136,137,138,139,140,141,142,143,144,145,146,147,148,149,150,151,152,153,154,155,156,157,158,159,160,161,162,163,164,165,166,167,168,169,170,171,172,173,174,175,176,177,178,179,180,181,182,183,184,185,186,187,188,189,190,191,192,193,194,195,196,197,198,199,200,201,202,203,204,205,206,207,208]\n"
     ]
    }
   ],
   "source": [
    "console.log(numRange)"
   ]
  },
  {
   "cell_type": "code",
   "execution_count": 5,
   "metadata": {
    "collapsed": false
   },
   "outputs": [
    {
     "name": "stdout",
     "output_type": "stream",
     "text": [
      "[Array] [963.1913274732401,981.6925143194305,1000.193701165621,1018.6948880118114,1037.1960748580018,1055.6972617041922,1074.1984485503826,1092.6996353965728,1111.2008222427633,1129.7020090889537,1148.203195935144,1166.7043827813345,1185.205569627525,1203.7067564737154,1222.2079433199058,1240.7091301660962,1259.2103170122866,1277.711503858477,1296.2126907046672,1314.713877550858,1333.215064397048,1351.7162512432385,1370.217438089429,1388.7186249356193,1407.2198117818098,1425.7209986280002,1444.2221854741906,1462.723372320381,1481.2245591665715,1499.7257460127616,1518.2269328589523,1536.7281197051425,1555.2293065513331,1573.7304933975233,1592.231680243714,1610.7328670899042,1629.2340539360946,1647.735240782285,1666.2364276284754,1684.7376144746659,1703.2388013208563,1721.7399881670467,1740.241175013237,1758.7423618594275,1777.2435487056177,1795.7447355518084,1814.2459223979986,1832.7471092441892,1851.2482960903794,1869.7494829365698,1888.2506697827603,1906.7518566289507,1925.253043475141,1943.7542303213315,1962.255417167522,1980.7566040137121,1999.2577908599028,2017.7589777060932,2036.2601645522834,2054.761351398474,2073.262538244664,2091.7637250908547,2110.2649119370453,2128.7660987832355,2147.2672856294257,2165.7684724756164,2184.269659321807,2202.770846167997,2221.2720330141874,2239.773219860378,2258.2744067065687,2276.7755935527584,2295.276780398949,2313.7779672451397,2332.27915409133,2350.78034093752,2369.2815277837108,2387.7827146299014,2406.2839014760916,2424.785088322282,2443.2862751684725,2461.787462014663,2480.2886488608533,2498.7898357070435,2517.291022553234,2535.7922093994243,2554.2933962456145,2572.794583091805,2591.295769937996,2609.796956784186,2628.298143630376,2646.799330476567,2665.3005173227575,2683.8017041689477,2702.302891015138,2720.8040778613286,2739.3052647075187,2757.806451553709,2776.3076383998996,2794.8088252460902,2813.3100120922804,2831.8111989384706,2850.3123857846613,2868.813572630852,2887.314759477042,2905.8159463232323,2924.317133169423,2942.8183200156136,2961.319506861804,2979.820693707994,2998.3218805541846,3016.823067400375,3035.3242542465655,3053.8254410927557,3072.3266279389463,3090.8278147851365,3109.3290016313267,3127.8301884775174,3146.3313753237076,3164.832562169898,3183.3337490160884,3201.834935862279,3220.3361227084692,3238.83730955466,3257.33849640085,3275.8396832470407,3294.340870093231,3312.8420569394216,3331.343243785612,3349.844430631802,3368.3456174779926,3386.846804324183,3405.3479911703735,3423.8491780165637,3442.3503648627543,3460.8515517089445,3479.352738555135,3497.8539254013253,3516.355112247516,3534.856299093706,3553.357485939897,3571.858672786087,3590.359859632277,3608.861046478468,3627.362233324658,3645.8634201708487,3664.364607017039,3682.8657938632296,3701.3669807094197,3719.8681675556104,3738.3693544018006,3756.8705412479912,3775.3717280941814,3793.872914940372,3812.3741017865623,3830.8752886327525,3849.376475478943,3867.8776623251333,3886.378849171324,3904.880036017514,3923.381222863705,3941.882409709895,3960.3835965560856,3978.884783402276,3997.3859702484665,4015.8871570946567,4034.3883439408473,4052.8895307870375,4071.3907176332277,4089.8919044794184,4108.393091325608,4126.8942781718,4145.395465017989,4163.89665186418,4182.397838710371,4200.89902555656,4219.400212402751,4237.901399248942,4256.4025860951315,4274.903772941323,4293.404959787513,4311.9061466337025,4330.407333479894,4348.908520326084,4367.4097071722745,4385.910894018465,4404.412080864655,4422.9132677108455,4441.414454557036,4459.915641403226,4478.416828249417,4496.918015095607,4515.419201941797,4533.9203887879885,4552.421575634178,4570.922762480369,4589.4239493265595,4607.925136172749,4626.42632301894,4644.927509865131,4663.42869671132,4681.929883557512,4700.431070403702,4718.932257249892,4737.433444096083,4755.934630942273,4774.435817788463,4792.937004634654,4811.438191480844]\n"
     ]
    }
   ],
   "source": [
    "console.log(lineData)"
   ]
  },
  {
   "cell_type": "code",
   "execution_count": 6,
   "metadata": {
    "collapsed": false
   },
   "outputs": [
    {
     "name": "stdout",
     "output_type": "stream",
     "text": [
      "{\"url\":\"https://plot.ly/~mallen75/0\",\"message\":\"High five! You successfully sent some data to your account on plotly. View your plot in your browser at https://plot.ly/~mallen75/0 or inside your plot.ly account where it is named 'basic-line'\",\"warning\":\"\",\"filename\":\"basic-line\",\"error\":\"\"}\n"
     ]
    }
   ],
   "source": [
    "let scatterData = {\n",
    "\tx: x,\n",
    "\ty: y,\n",
    "\tmode: 'markers',\n",
    "\tname: 'Wage ($/hr)',\n",
    "\ttype: 'scatter',\n",
    "\tmarker: {\n",
    "\t\tcolor: 'rgb(176,196,222)',\n",
    "\t\tsize: 12,\n",
    "\t\tline: {\n",
    "\t\t\tcolor: 'white',\n",
    "\t\t\twidth: 0.5\n",
    "\t\t}\n",
    "\t}\n",
    "}\n",
    "\n",
    "let linePlotData = {\n",
    "\tx: numRange,\n",
    "\ty: lineData,\n",
    "\tmode: 'lines+markers',\n",
    "\tname: `salary = ${intercept} + ${slope} roe`,\n",
    "\ttype: 'scatter',\n",
    "\tline: {\n",
    "\t\tcolor: 'rgb(30,144,255)'\n",
    "\t}\n",
    "};\n",
    "\n",
    "let layout = {\n",
    "  title: \"CEO Salary and Return On Equity\",\n",
    "  xaxis: {\n",
    "    title: \"ROE\",\n",
    "    showgrid: false,\n",
    "    zeroline: false\n",
    "  },\n",
    "  yaxis: {\n",
    "    title: \"Salary\",\n",
    "    showline: false\n",
    "  }\n",
    "};\n",
    "\n",
    "let fullData = [scatterData,linePlotData];\n",
    "\n",
    "let graphOptions = {filename: \"basic-line\", fileopt: \"overwrite\", layout: layout}\n",
    "\n",
    "plotly.plot(fullData, graphOptions, function(err,msg) {\n",
    "\tconsole.log(msg);\n",
    "});"
   ]
  },
  {
   "cell_type": "code",
   "execution_count": null,
   "metadata": {
    "collapsed": true
   },
   "outputs": [],
   "source": []
  }
 ],
 "metadata": {
  "kernelspec": {
   "display_name": "NodeJS",
   "language": "javascript",
   "name": "nodejs"
  },
  "language_info": {
   "codemirror_mode": "javascript",
   "file_extension": ".js",
   "mimetype": "text/javascript",
   "name": "nodejs",
   "pygments_lexer": "javascript",
   "version": "0.10"
  }
 },
 "nbformat": 4,
 "nbformat_minor": 0
}
